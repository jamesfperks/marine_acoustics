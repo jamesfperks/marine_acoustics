{
 "cells": [
  {
   "cell_type": "markdown",
   "id": "3878a2c8-fbf4-41e7-a467-2193ceb7164a",
   "metadata": {},
   "source": [
    "### CNN Workbook for MINST"
   ]
  },
  {
   "cell_type": "code",
   "execution_count": 1,
   "id": "a674a2ad-ddb9-48cf-a784-8c5c6f62c655",
   "metadata": {},
   "outputs": [],
   "source": [
    "import torch\n",
    "import torchvision\n",
    "\n",
    "%matplotlib inline\n"
   ]
  },
  {
   "cell_type": "code",
   "execution_count": 6,
   "id": "64c4e61a-becf-4e71-af54-c4524c93671b",
   "metadata": {},
   "outputs": [
    {
     "name": "stdout",
     "output_type": "stream",
     "text": [
      "<class 'torchvision.datasets.mnist.MNIST'>\n"
     ]
    },
    {
     "data": {
      "text/plain": [
       "<matplotlib.image.AxesImage at 0x27438239790>"
      ]
     },
     "execution_count": 6,
     "metadata": {},
     "output_type": "execute_result"
    },
    {
     "data": {
      "image/png": "[encoded data removed]",
      "text/plain": [
       "<Figure size 432x288 with 1 Axes>"
      ]
     },
     "metadata": {},
     "output_type": "display_data"
    }
   ],
   "source": [
    "import matplotlib.pyplot as plt\n",
    "\n",
    "n_epochs = 3\n",
    "batch_size_train = 64\n",
    "batch_size_test = 1000\n",
    "learning_rate = 0.01\n",
    "momentum = 0.5\n",
    "log_interval = 10\n",
    "\n",
    "random_seed = 1\n",
    "torch.manual_seed(random_seed)\n",
    "\n",
    "training_data = torchvision.datasets.MNIST(r'C:\\Users\\james\\OneDrive - Nexus365\\Engineering\\Year4\\4YP\\git\\marine_acoustics\\data',\n",
    "                                           train=True,\n",
    "                                           download=False,\n",
    "                                           transform=torchvision.transforms.Compose([\n",
    "                                                torchvision.transforms.ToTensor(),\n",
    "                                                torchvision.transforms.Normalize((0.1307,), (0.3081,))]))\n",
    "\n",
    "test_data = torchvision.datasets.MNIST(r'C:\\Users\\james\\OneDrive - Nexus365\\Engineering\\Year4\\4YP\\git\\marine_acoustics\\data',\n",
    "                                       train=False,\n",
    "                                       download=False,\n",
    "                                       transform=torchvision.transforms.Compose([\n",
    "                                           torchvision.transforms.ToTensor(),\n",
    "                                           torchvision.transforms.Normalize((0.1307,), (0.3081,))]))\n",
    "\n",
    "train_loader = torch.utils.data.DataLoader(training_data, batch_size=batch_size_train, shuffle=True)\n",
    "test_loader = torch.utils.data.DataLoader(test_data, batch_size=batch_size_test, shuffle=True)\n",
    "\n",
    "# Note to self\n",
    "# torchvision.dataset can be indexed by sample to give (features, label)\n",
    "\n",
    "print(type(training_data))\n",
    "plt.imshow(training_data[0][0][0], cmap='gray', interpolation='none')"
   ]
  },
  {
   "cell_type": "code",
   "execution_count": 7,
   "id": "e220299c-09e3-424d-980e-431796b02fc9",
   "metadata": {},
   "outputs": [],
   "source": [
    "examples = enumerate(test_loader)\n",
    "batch_idx, (example_data, example_targets) = next(examples)\n"
   ]
  },
  {
   "cell_type": "code",
   "execution_count": 8,
   "id": "1325c48a-0ae9-4a05-997e-fc58a74e89b0",
   "metadata": {},
   "outputs": [
    {
     "data": {
      "text/plain": [
       "torch.Size([1000, 1, 28, 28])"
      ]
     },
     "execution_count": 8,
     "metadata": {},
     "output_type": "execute_result"
    }
   ],
   "source": [
    "example_data.shape\n"
   ]
  },
  {
   "cell_type": "code",
   "execution_count": 9,
   "id": "72ef5a1a-645b-48e6-b86f-edcd5c93d7ac",
   "metadata": {},
   "outputs": [
    {
     "name": "stderr",
     "output_type": "stream",
     "text": [
      "C:\\Users\\james\\AppData\\Local\\Temp\\ipykernel_19112\\918862384.py:6: UserWarning: The figure layout has changed to tight\n",
      "  plt.tight_layout()\n"
     ]
    },
    {
     "data": {
      "image/png": "[encoded data removed]",
      "text/plain": [
       "<Figure size 432x288 with 6 Axes>"
      ]
     },
     "metadata": {},
     "output_type": "display_data"
    }
   ],
   "source": [
    "import matplotlib.pyplot as plt\n",
    "\n",
    "fig = plt.figure()\n",
    "for i in range(6):\n",
    "  plt.subplot(2,3,i+1)\n",
    "  plt.tight_layout()\n",
    "  plt.imshow(example_data[i][0], cmap='gray', interpolation='none')\n",
    "  plt.title(\"Ground Truth: {}\".format(example_targets[i]))\n",
    "  plt.xticks([])\n",
    "  plt.yticks([])\n"
   ]
  },
  {
   "cell_type": "code",
   "execution_count": 10,
   "id": "c502afee-7c62-4f08-873b-5c385b429895",
   "metadata": {},
   "outputs": [],
   "source": [
    "import torch.nn as nn\n",
    "import torch.nn.functional as F\n",
    "import torch.optim as optim\n"
   ]
  },
  {
   "cell_type": "code",
   "execution_count": 11,
   "id": "ef61abfe-8d61-41f0-b07a-30a6f8a85ab8",
   "metadata": {},
   "outputs": [],
   "source": [
    "class Net(nn.Module):\n",
    "    def __init__(self):\n",
    "        super(Net, self).__init__()\n",
    "        self.conv1 = nn.Conv2d(1, 10, kernel_size=5)\n",
    "        self.conv2 = nn.Conv2d(10, 20, kernel_size=5)\n",
    "        self.conv2_drop = nn.Dropout2d()\n",
    "        self.fc1 = nn.Linear(320, 50)\n",
    "        self.fc2 = nn.Linear(50, 10)\n",
    "\n",
    "    def forward(self, x):\n",
    "        x = F.relu(F.max_pool2d(self.conv1(x), 2))\n",
    "        x = F.relu(F.max_pool2d(self.conv2_drop(self.conv2(x)), 2))\n",
    "        x = x.view(-1, 320)\n",
    "        x = F.relu(self.fc1(x))\n",
    "        x = F.dropout(x, training=self.training)\n",
    "        x = self.fc2(x)\n",
    "        return F.log_softmax(x)\n",
    "\n"
   ]
  },
  {
   "cell_type": "code",
   "execution_count": 12,
   "id": "715bf6a6-e169-4df8-88b7-8fb63a5cfcf3",
   "metadata": {},
   "outputs": [],
   "source": [
    "network = Net()\n",
    "optimizer = optim.SGD(network.parameters(), lr=learning_rate,\n",
    "                      momentum=momentum)\n",
    "\n"
   ]
  },
  {
   "cell_type": "code",
   "execution_count": 13,
   "id": "df0c4f6c-48a2-41a8-9292-1e64aa0d4965",
   "metadata": {},
   "outputs": [],
   "source": [
    "train_losses = []\n",
    "train_counter = []\n",
    "test_losses = []\n",
    "test_counter = [i*len(train_loader.dataset) for i in range(n_epochs + 1)]\n",
    "\n"
   ]
  },
  {
   "cell_type": "code",
   "execution_count": 14,
   "id": "24152bba-237f-4890-a258-45d78b072fd9",
   "metadata": {},
   "outputs": [],
   "source": [
    "def train(epoch):\n",
    "  network.train()\n",
    "  for batch_idx, (data, target) in enumerate(train_loader):\n",
    "    optimizer.zero_grad()\n",
    "    output = network(data)\n",
    "    loss = F.nll_loss(output, target)\n",
    "    loss.backward()\n",
    "    optimizer.step()\n",
    "    if batch_idx % log_interval == 0:\n",
    "      print('Train Epoch: {} [{}/{} ({:.0f}%)]\\tLoss: {:.6f}'.format(\n",
    "        epoch, batch_idx * len(data), len(train_loader.dataset),\n",
    "        100. * batch_idx / len(train_loader), loss.item()))\n",
    "      train_losses.append(loss.item())\n",
    "      train_counter.append(\n",
    "        (batch_idx*64) + ((epoch-1)*len(train_loader.dataset)))\n",
    "      #torch.save(network.state_dict(), '/results/model.pth')\n",
    "      #torch.save(optimizer.state_dict(), '/results/optimizer.pth')\n",
    "\n",
    "        "
   ]
  },
  {
   "cell_type": "code",
   "execution_count": 15,
   "id": "7988869b-db32-4994-a84d-bdd6415afcb6",
   "metadata": {},
   "outputs": [],
   "source": [
    "def test():\n",
    "  network.eval()\n",
    "  test_loss = 0\n",
    "  correct = 0\n",
    "  with torch.no_grad():\n",
    "    for data, target in test_loader:\n",
    "      output = network(data)\n",
    "      test_loss += F.nll_loss(output, target, size_average=False).item()\n",
    "      pred = output.data.max(1, keepdim=True)[1]\n",
    "      correct += pred.eq(target.data.view_as(pred)).sum()\n",
    "  test_loss /= len(test_loader.dataset)\n",
    "  test_losses.append(test_loss)\n",
    "  print('\\nTest set: Avg. loss: {:.4f}, Accuracy: {}/{} ({:.0f}%)\\n'.format(\n",
    "    test_loss, correct, len(test_loader.dataset),\n",
    "    100. * correct / len(test_loader.dataset)))\n",
    "\n",
    "    "
   ]
  },
  {
   "cell_type": "code",
   "execution_count": 16,
   "id": "a49e3712-d012-4df5-a45b-b3e322f7e104",
   "metadata": {},
   "outputs": [
    {
     "name": "stderr",
     "output_type": "stream",
     "text": [
      "C:\\Users\\james\\AppData\\Local\\Temp\\ipykernel_19112\\1954227324.py:17: UserWarning: Implicit dimension choice for log_softmax has been deprecated. Change the call to include dim=X as an argument.\n",
      "  return F.log_softmax(x)\n",
      "C:\\Users\\james\\anaconda3\\envs\\marine_acoustics\\Lib\\site-packages\\torch\\nn\\_reduction.py:42: UserWarning: size_average and reduce args will be deprecated, please use reduction='sum' instead.\n",
      "  warnings.warn(warning.format(ret))\n"
     ]
    },
    {
     "name": "stdout",
     "output_type": "stream",
     "text": [
      "\n",
      "Test set: Avg. loss: 2.3096, Accuracy: 924/10000 (9%)\n",
      "\n",
      "Train Epoch: 1 [0/60000 (0%)]\tLoss: 2.313179\n",
      "Train Epoch: 1 [640/60000 (1%)]\tLoss: 2.300776\n",
      "Train Epoch: 1 [1280/60000 (2%)]\tLoss: 2.298872\n",
      "Train Epoch: 1 [1920/60000 (3%)]\tLoss: 2.276723\n",
      "Train Epoch: 1 [2560/60000 (4%)]\tLoss: 2.241102\n",
      "Train Epoch: 1 [3200/60000 (5%)]\tLoss: 2.248727\n",
      "Train Epoch: 1 [3840/60000 (6%)]\tLoss: 2.189346\n",
      "Train Epoch: 1 [4480/60000 (7%)]\tLoss: 2.146075\n",
      "Train Epoch: 1 [5120/60000 (9%)]\tLoss: 2.107432\n",
      "Train Epoch: 1 [5760/60000 (10%)]\tLoss: 2.010181\n",
      "Train Epoch: 1 [6400/60000 (11%)]\tLoss: 1.842805\n",
      "Train Epoch: 1 [7040/60000 (12%)]\tLoss: 1.758985\n",
      "Train Epoch: 1 [7680/60000 (13%)]\tLoss: 1.671717\n",
      "Train Epoch: 1 [8320/60000 (14%)]\tLoss: 1.689134\n",
      "Train Epoch: 1 [8960/60000 (15%)]\tLoss: 1.427019\n",
      "Train Epoch: 1 [9600/60000 (16%)]\tLoss: 1.280802\n",
      "Train Epoch: 1 [10240/60000 (17%)]\tLoss: 1.311029\n",
      "Train Epoch: 1 [10880/60000 (18%)]\tLoss: 1.441940\n",
      "Train Epoch: 1 [11520/60000 (19%)]\tLoss: 1.140555\n",
      "Train Epoch: 1 [12160/60000 (20%)]\tLoss: 1.151660\n",
      "Train Epoch: 1 [12800/60000 (21%)]\tLoss: 1.051933\n",
      "Train Epoch: 1 [13440/60000 (22%)]\tLoss: 0.894787\n",
      "Train Epoch: 1 [14080/60000 (23%)]\tLoss: 1.189509\n",
      "Train Epoch: 1 [14720/60000 (25%)]\tLoss: 0.943906\n",
      "Train Epoch: 1 [15360/60000 (26%)]\tLoss: 0.874338\n",
      "Train Epoch: 1 [16000/60000 (27%)]\tLoss: 0.843033\n",
      "Train Epoch: 1 [16640/60000 (28%)]\tLoss: 0.764724\n",
      "Train Epoch: 1 [17280/60000 (29%)]\tLoss: 0.757614\n",
      "Train Epoch: 1 [17920/60000 (30%)]\tLoss: 0.818882\n",
      "Train Epoch: 1 [18560/60000 (31%)]\tLoss: 0.883733\n",
      "Train Epoch: 1 [19200/60000 (32%)]\tLoss: 0.796736\n",
      "Train Epoch: 1 [19840/60000 (33%)]\tLoss: 0.911369\n",
      "Train Epoch: 1 [20480/60000 (34%)]\tLoss: 0.582851\n",
      "Train Epoch: 1 [21120/60000 (35%)]\tLoss: 0.694431\n",
      "Train Epoch: 1 [21760/60000 (36%)]\tLoss: 0.616652\n",
      "Train Epoch: 1 [22400/60000 (37%)]\tLoss: 0.774380\n",
      "Train Epoch: 1 [23040/60000 (38%)]\tLoss: 0.713725\n",
      "Train Epoch: 1 [23680/60000 (39%)]\tLoss: 0.639354\n",
      "Train Epoch: 1 [24320/60000 (41%)]\tLoss: 0.662006\n",
      "Train Epoch: 1 [24960/60000 (42%)]\tLoss: 0.828940\n",
      "Train Epoch: 1 [25600/60000 (43%)]\tLoss: 0.857846\n",
      "Train Epoch: 1 [26240/60000 (44%)]\tLoss: 0.624476\n",
      "Train Epoch: 1 [26880/60000 (45%)]\tLoss: 0.624785\n",
      "Train Epoch: 1 [27520/60000 (46%)]\tLoss: 0.677195\n",
      "Train Epoch: 1 [28160/60000 (47%)]\tLoss: 0.579102\n",
      "Train Epoch: 1 [28800/60000 (48%)]\tLoss: 0.559268\n",
      "Train Epoch: 1 [29440/60000 (49%)]\tLoss: 0.825651\n",
      "Train Epoch: 1 [30080/60000 (50%)]\tLoss: 0.740211\n",
      "Train Epoch: 1 [30720/60000 (51%)]\tLoss: 0.639270\n",
      "Train Epoch: 1 [31360/60000 (52%)]\tLoss: 0.648673\n",
      "Train Epoch: 1 [32000/60000 (53%)]\tLoss: 0.710413\n",
      "Train Epoch: 1 [32640/60000 (54%)]\tLoss: 0.448539\n",
      "Train Epoch: 1 [33280/60000 (55%)]\tLoss: 0.594281\n",
      "Train Epoch: 1 [33920/60000 (57%)]\tLoss: 0.575701\n",
      "Train Epoch: 1 [34560/60000 (58%)]\tLoss: 0.666789\n",
      "Train Epoch: 1 [35200/60000 (59%)]\tLoss: 0.570193\n",
      "Train Epoch: 1 [35840/60000 (60%)]\tLoss: 0.575802\n",
      "Train Epoch: 1 [36480/60000 (61%)]\tLoss: 0.631433\n",
      "Train Epoch: 1 [37120/60000 (62%)]\tLoss: 0.807735\n",
      "Train Epoch: 1 [37760/60000 (63%)]\tLoss: 0.572707\n",
      "Train Epoch: 1 [38400/60000 (64%)]\tLoss: 0.615248\n",
      "Train Epoch: 1 [39040/60000 (65%)]\tLoss: 0.537688\n",
      "Train Epoch: 1 [39680/60000 (66%)]\tLoss: 0.603138\n",
      "Train Epoch: 1 [40320/60000 (67%)]\tLoss: 0.316249\n",
      "Train Epoch: 1 [40960/60000 (68%)]\tLoss: 0.338390\n",
      "Train Epoch: 1 [41600/60000 (69%)]\tLoss: 0.380996\n",
      "Train Epoch: 1 [42240/60000 (70%)]\tLoss: 0.299342\n",
      "Train Epoch: 1 [42880/60000 (71%)]\tLoss: 0.411713\n",
      "Train Epoch: 1 [43520/60000 (72%)]\tLoss: 0.430178\n",
      "Train Epoch: 1 [44160/60000 (74%)]\tLoss: 0.459166\n",
      "Train Epoch: 1 [44800/60000 (75%)]\tLoss: 0.616826\n",
      "Train Epoch: 1 [45440/60000 (76%)]\tLoss: 0.536267\n",
      "Train Epoch: 1 [46080/60000 (77%)]\tLoss: 0.519213\n",
      "Train Epoch: 1 [46720/60000 (78%)]\tLoss: 0.382430\n",
      "Train Epoch: 1 [47360/60000 (79%)]\tLoss: 0.489391\n",
      "Train Epoch: 1 [48000/60000 (80%)]\tLoss: 0.555915\n",
      "Train Epoch: 1 [48640/60000 (81%)]\tLoss: 0.422415\n",
      "Train Epoch: 1 [49280/60000 (82%)]\tLoss: 0.389958\n",
      "Train Epoch: 1 [49920/60000 (83%)]\tLoss: 0.519984\n",
      "Train Epoch: 1 [50560/60000 (84%)]\tLoss: 0.434671\n",
      "Train Epoch: 1 [51200/60000 (85%)]\tLoss: 0.698667\n",
      "Train Epoch: 1 [51840/60000 (86%)]\tLoss: 0.515390\n",
      "Train Epoch: 1 [52480/60000 (87%)]\tLoss: 0.676495\n",
      "Train Epoch: 1 [53120/60000 (88%)]\tLoss: 0.543999\n",
      "Train Epoch: 1 [53760/60000 (90%)]\tLoss: 0.552158\n",
      "Train Epoch: 1 [54400/60000 (91%)]\tLoss: 0.640933\n",
      "Train Epoch: 1 [55040/60000 (92%)]\tLoss: 0.444989\n",
      "Train Epoch: 1 [55680/60000 (93%)]\tLoss: 0.535986\n",
      "Train Epoch: 1 [56320/60000 (94%)]\tLoss: 0.541946\n",
      "Train Epoch: 1 [56960/60000 (95%)]\tLoss: 0.368643\n",
      "Train Epoch: 1 [57600/60000 (96%)]\tLoss: 0.321207\n",
      "Train Epoch: 1 [58240/60000 (97%)]\tLoss: 0.312041\n",
      "Train Epoch: 1 [58880/60000 (98%)]\tLoss: 0.725066\n",
      "Train Epoch: 1 [59520/60000 (99%)]\tLoss: 0.380304\n",
      "\n",
      "Test set: Avg. loss: 0.1871, Accuracy: 9435/10000 (94%)\n",
      "\n",
      "Train Epoch: 2 [0/60000 (0%)]\tLoss: 0.449070\n",
      "Train Epoch: 2 [640/60000 (1%)]\tLoss: 0.480567\n",
      "Train Epoch: 2 [1280/60000 (2%)]\tLoss: 0.495312\n",
      "Train Epoch: 2 [1920/60000 (3%)]\tLoss: 0.514498\n",
      "Train Epoch: 2 [2560/60000 (4%)]\tLoss: 0.300738\n",
      "Train Epoch: 2 [3200/60000 (5%)]\tLoss: 0.166547\n",
      "Train Epoch: 2 [3840/60000 (6%)]\tLoss: 0.500744\n",
      "Train Epoch: 2 [4480/60000 (7%)]\tLoss: 0.425112\n",
      "Train Epoch: 2 [5120/60000 (9%)]\tLoss: 0.379583\n",
      "Train Epoch: 2 [5760/60000 (10%)]\tLoss: 0.650049\n",
      "Train Epoch: 2 [6400/60000 (11%)]\tLoss: 0.569954\n",
      "Train Epoch: 2 [7040/60000 (12%)]\tLoss: 0.316788\n",
      "Train Epoch: 2 [7680/60000 (13%)]\tLoss: 0.423266\n",
      "Train Epoch: 2 [8320/60000 (14%)]\tLoss: 0.616089\n",
      "Train Epoch: 2 [8960/60000 (15%)]\tLoss: 0.492152\n",
      "Train Epoch: 2 [9600/60000 (16%)]\tLoss: 0.435812\n",
      "Train Epoch: 2 [10240/60000 (17%)]\tLoss: 0.299422\n",
      "Train Epoch: 2 [10880/60000 (18%)]\tLoss: 0.516670\n",
      "Train Epoch: 2 [11520/60000 (19%)]\tLoss: 0.315918\n",
      "Train Epoch: 2 [12160/60000 (20%)]\tLoss: 0.338377\n",
      "Train Epoch: 2 [12800/60000 (21%)]\tLoss: 0.471997\n",
      "Train Epoch: 2 [13440/60000 (22%)]\tLoss: 0.475868\n",
      "Train Epoch: 2 [14080/60000 (23%)]\tLoss: 0.461004\n",
      "Train Epoch: 2 [14720/60000 (25%)]\tLoss: 0.365181\n",
      "Train Epoch: 2 [15360/60000 (26%)]\tLoss: 0.197315\n",
      "Train Epoch: 2 [16000/60000 (27%)]\tLoss: 0.247464\n",
      "Train Epoch: 2 [16640/60000 (28%)]\tLoss: 0.366785\n",
      "Train Epoch: 2 [17280/60000 (29%)]\tLoss: 0.428426\n",
      "Train Epoch: 2 [17920/60000 (30%)]\tLoss: 0.310478\n",
      "Train Epoch: 2 [18560/60000 (31%)]\tLoss: 0.335296\n",
      "Train Epoch: 2 [19200/60000 (32%)]\tLoss: 0.492469\n",
      "Train Epoch: 2 [19840/60000 (33%)]\tLoss: 0.348873\n",
      "Train Epoch: 2 [20480/60000 (34%)]\tLoss: 0.368192\n",
      "Train Epoch: 2 [21120/60000 (35%)]\tLoss: 0.381412\n",
      "Train Epoch: 2 [21760/60000 (36%)]\tLoss: 0.492863\n",
      "Train Epoch: 2 [22400/60000 (37%)]\tLoss: 0.617273\n",
      "Train Epoch: 2 [23040/60000 (38%)]\tLoss: 0.502646\n",
      "Train Epoch: 2 [23680/60000 (39%)]\tLoss: 0.354182\n",
      "Train Epoch: 2 [24320/60000 (41%)]\tLoss: 0.402656\n",
      "Train Epoch: 2 [24960/60000 (42%)]\tLoss: 0.222965\n",
      "Train Epoch: 2 [25600/60000 (43%)]\tLoss: 0.212961\n",
      "Train Epoch: 2 [26240/60000 (44%)]\tLoss: 0.391840\n",
      "Train Epoch: 2 [26880/60000 (45%)]\tLoss: 0.299902\n",
      "Train Epoch: 2 [27520/60000 (46%)]\tLoss: 0.234097\n",
      "Train Epoch: 2 [28160/60000 (47%)]\tLoss: 0.178227\n",
      "Train Epoch: 2 [28800/60000 (48%)]\tLoss: 0.254259\n",
      "Train Epoch: 2 [29440/60000 (49%)]\tLoss: 0.508998\n",
      "Train Epoch: 2 [30080/60000 (50%)]\tLoss: 0.299151\n",
      "Train Epoch: 2 [30720/60000 (51%)]\tLoss: 0.319894\n",
      "Train Epoch: 2 [31360/60000 (52%)]\tLoss: 0.430903\n",
      "Train Epoch: 2 [32000/60000 (53%)]\tLoss: 0.678783\n",
      "Train Epoch: 2 [32640/60000 (54%)]\tLoss: 0.304389\n",
      "Train Epoch: 2 [33280/60000 (55%)]\tLoss: 0.269041\n",
      "Train Epoch: 2 [33920/60000 (57%)]\tLoss: 0.409906\n",
      "Train Epoch: 2 [34560/60000 (58%)]\tLoss: 0.390180\n",
      "Train Epoch: 2 [35200/60000 (59%)]\tLoss: 0.428180\n",
      "Train Epoch: 2 [35840/60000 (60%)]\tLoss: 0.450761\n",
      "Train Epoch: 2 [36480/60000 (61%)]\tLoss: 0.340755\n",
      "Train Epoch: 2 [37120/60000 (62%)]\tLoss: 0.489356\n",
      "Train Epoch: 2 [37760/60000 (63%)]\tLoss: 0.440167\n",
      "Train Epoch: 2 [38400/60000 (64%)]\tLoss: 0.284873\n",
      "Train Epoch: 2 [39040/60000 (65%)]\tLoss: 0.194327\n",
      "Train Epoch: 2 [39680/60000 (66%)]\tLoss: 0.411585\n",
      "Train Epoch: 2 [40320/60000 (67%)]\tLoss: 0.199885\n",
      "Train Epoch: 2 [40960/60000 (68%)]\tLoss: 0.498272\n",
      "Train Epoch: 2 [41600/60000 (69%)]\tLoss: 0.144542\n",
      "Train Epoch: 2 [42240/60000 (70%)]\tLoss: 0.353886\n",
      "Train Epoch: 2 [42880/60000 (71%)]\tLoss: 0.464937\n",
      "Train Epoch: 2 [43520/60000 (72%)]\tLoss: 0.265841\n",
      "Train Epoch: 2 [44160/60000 (74%)]\tLoss: 0.397215\n",
      "Train Epoch: 2 [44800/60000 (75%)]\tLoss: 0.225995\n",
      "Train Epoch: 2 [45440/60000 (76%)]\tLoss: 0.484111\n",
      "Train Epoch: 2 [46080/60000 (77%)]\tLoss: 0.282676\n",
      "Train Epoch: 2 [46720/60000 (78%)]\tLoss: 0.289576\n",
      "Train Epoch: 2 [47360/60000 (79%)]\tLoss: 0.184452\n",
      "Train Epoch: 2 [48000/60000 (80%)]\tLoss: 0.259817\n",
      "Train Epoch: 2 [48640/60000 (81%)]\tLoss: 0.353761\n",
      "Train Epoch: 2 [49280/60000 (82%)]\tLoss: 0.439782\n",
      "Train Epoch: 2 [49920/60000 (83%)]\tLoss: 0.284221\n",
      "Train Epoch: 2 [50560/60000 (84%)]\tLoss: 0.338009\n",
      "Train Epoch: 2 [51200/60000 (85%)]\tLoss: 0.408964\n",
      "Train Epoch: 2 [51840/60000 (86%)]\tLoss: 0.315961\n",
      "Train Epoch: 2 [52480/60000 (87%)]\tLoss: 0.329732\n",
      "Train Epoch: 2 [53120/60000 (88%)]\tLoss: 0.270668\n",
      "Train Epoch: 2 [53760/60000 (90%)]\tLoss: 0.252364\n",
      "Train Epoch: 2 [54400/60000 (91%)]\tLoss: 0.201388\n",
      "Train Epoch: 2 [55040/60000 (92%)]\tLoss: 0.495958\n",
      "Train Epoch: 2 [55680/60000 (93%)]\tLoss: 0.193525\n",
      "Train Epoch: 2 [56320/60000 (94%)]\tLoss: 0.353594\n",
      "Train Epoch: 2 [56960/60000 (95%)]\tLoss: 0.226541\n",
      "Train Epoch: 2 [57600/60000 (96%)]\tLoss: 0.540880\n",
      "Train Epoch: 2 [58240/60000 (97%)]\tLoss: 0.471871\n",
      "Train Epoch: 2 [58880/60000 (98%)]\tLoss: 0.268020\n",
      "Train Epoch: 2 [59520/60000 (99%)]\tLoss: 0.292702\n",
      "\n",
      "Test set: Avg. loss: 0.1163, Accuracy: 9633/10000 (96%)\n",
      "\n",
      "Train Epoch: 3 [0/60000 (0%)]\tLoss: 0.200291\n",
      "Train Epoch: 3 [640/60000 (1%)]\tLoss: 0.227911\n",
      "Train Epoch: 3 [1280/60000 (2%)]\tLoss: 0.393390\n",
      "Train Epoch: 3 [1920/60000 (3%)]\tLoss: 0.261480\n",
      "Train Epoch: 3 [2560/60000 (4%)]\tLoss: 0.257290\n",
      "Train Epoch: 3 [3200/60000 (5%)]\tLoss: 0.317839\n",
      "Train Epoch: 3 [3840/60000 (6%)]\tLoss: 0.264318\n",
      "Train Epoch: 3 [4480/60000 (7%)]\tLoss: 0.469376\n",
      "Train Epoch: 3 [5120/60000 (9%)]\tLoss: 0.490321\n",
      "Train Epoch: 3 [5760/60000 (10%)]\tLoss: 0.394919\n",
      "Train Epoch: 3 [6400/60000 (11%)]\tLoss: 0.323109\n",
      "Train Epoch: 3 [7040/60000 (12%)]\tLoss: 0.356221\n",
      "Train Epoch: 3 [7680/60000 (13%)]\tLoss: 0.231510\n",
      "Train Epoch: 3 [8320/60000 (14%)]\tLoss: 0.156528\n",
      "Train Epoch: 3 [8960/60000 (15%)]\tLoss: 0.267043\n",
      "Train Epoch: 3 [9600/60000 (16%)]\tLoss: 0.236254\n",
      "Train Epoch: 3 [10240/60000 (17%)]\tLoss: 0.287531\n",
      "Train Epoch: 3 [10880/60000 (18%)]\tLoss: 0.287333\n",
      "Train Epoch: 3 [11520/60000 (19%)]\tLoss: 0.425402\n",
      "Train Epoch: 3 [12160/60000 (20%)]\tLoss: 0.223523\n",
      "Train Epoch: 3 [12800/60000 (21%)]\tLoss: 0.481977\n",
      "Train Epoch: 3 [13440/60000 (22%)]\tLoss: 0.324456\n",
      "Train Epoch: 3 [14080/60000 (23%)]\tLoss: 0.385123\n",
      "Train Epoch: 3 [14720/60000 (25%)]\tLoss: 0.339639\n",
      "Train Epoch: 3 [15360/60000 (26%)]\tLoss: 0.318737\n",
      "Train Epoch: 3 [16000/60000 (27%)]\tLoss: 0.827643\n",
      "Train Epoch: 3 [16640/60000 (28%)]\tLoss: 0.519772\n",
      "Train Epoch: 3 [17280/60000 (29%)]\tLoss: 0.420605\n",
      "Train Epoch: 3 [17920/60000 (30%)]\tLoss: 0.303589\n",
      "Train Epoch: 3 [18560/60000 (31%)]\tLoss: 0.307499\n",
      "Train Epoch: 3 [19200/60000 (32%)]\tLoss: 0.337545\n",
      "Train Epoch: 3 [19840/60000 (33%)]\tLoss: 0.366738\n",
      "Train Epoch: 3 [20480/60000 (34%)]\tLoss: 0.193645\n",
      "Train Epoch: 3 [21120/60000 (35%)]\tLoss: 0.178116\n",
      "Train Epoch: 3 [21760/60000 (36%)]\tLoss: 0.326203\n",
      "Train Epoch: 3 [22400/60000 (37%)]\tLoss: 0.228614\n",
      "Train Epoch: 3 [23040/60000 (38%)]\tLoss: 0.456392\n",
      "Train Epoch: 3 [23680/60000 (39%)]\tLoss: 0.195066\n",
      "Train Epoch: 3 [24320/60000 (41%)]\tLoss: 0.269542\n",
      "Train Epoch: 3 [24960/60000 (42%)]\tLoss: 0.160260\n",
      "Train Epoch: 3 [25600/60000 (43%)]\tLoss: 0.425587\n",
      "Train Epoch: 3 [26240/60000 (44%)]\tLoss: 0.199202\n",
      "Train Epoch: 3 [26880/60000 (45%)]\tLoss: 0.199013\n",
      "Train Epoch: 3 [27520/60000 (46%)]\tLoss: 0.205847\n",
      "Train Epoch: 3 [28160/60000 (47%)]\tLoss: 0.331158\n",
      "Train Epoch: 3 [28800/60000 (48%)]\tLoss: 0.449202\n",
      "Train Epoch: 3 [29440/60000 (49%)]\tLoss: 0.159591\n",
      "Train Epoch: 3 [30080/60000 (50%)]\tLoss: 0.280066\n",
      "Train Epoch: 3 [30720/60000 (51%)]\tLoss: 0.257466\n",
      "Train Epoch: 3 [31360/60000 (52%)]\tLoss: 0.210571\n",
      "Train Epoch: 3 [32000/60000 (53%)]\tLoss: 0.404689\n",
      "Train Epoch: 3 [32640/60000 (54%)]\tLoss: 0.328678\n",
      "Train Epoch: 3 [33280/60000 (55%)]\tLoss: 0.180246\n",
      "Train Epoch: 3 [33920/60000 (57%)]\tLoss: 0.433457\n",
      "Train Epoch: 3 [34560/60000 (58%)]\tLoss: 0.254222\n",
      "Train Epoch: 3 [35200/60000 (59%)]\tLoss: 0.332605\n",
      "Train Epoch: 3 [35840/60000 (60%)]\tLoss: 0.487176\n",
      "Train Epoch: 3 [36480/60000 (61%)]\tLoss: 0.193778\n",
      "Train Epoch: 3 [37120/60000 (62%)]\tLoss: 0.193869\n",
      "Train Epoch: 3 [37760/60000 (63%)]\tLoss: 0.333717\n",
      "Train Epoch: 3 [38400/60000 (64%)]\tLoss: 0.444560\n",
      "Train Epoch: 3 [39040/60000 (65%)]\tLoss: 0.380054\n",
      "Train Epoch: 3 [39680/60000 (66%)]\tLoss: 0.207252\n",
      "Train Epoch: 3 [40320/60000 (67%)]\tLoss: 0.236003\n",
      "Train Epoch: 3 [40960/60000 (68%)]\tLoss: 0.465520\n",
      "Train Epoch: 3 [41600/60000 (69%)]\tLoss: 0.323258\n",
      "Train Epoch: 3 [42240/60000 (70%)]\tLoss: 0.364221\n",
      "Train Epoch: 3 [42880/60000 (71%)]\tLoss: 0.183084\n",
      "Train Epoch: 3 [43520/60000 (72%)]\tLoss: 0.235647\n",
      "Train Epoch: 3 [44160/60000 (74%)]\tLoss: 0.303399\n",
      "Train Epoch: 3 [44800/60000 (75%)]\tLoss: 0.209640\n",
      "Train Epoch: 3 [45440/60000 (76%)]\tLoss: 0.237311\n",
      "Train Epoch: 3 [46080/60000 (77%)]\tLoss: 0.334094\n",
      "Train Epoch: 3 [46720/60000 (78%)]\tLoss: 0.190611\n",
      "Train Epoch: 3 [47360/60000 (79%)]\tLoss: 0.368683\n",
      "Train Epoch: 3 [48000/60000 (80%)]\tLoss: 0.348690\n",
      "Train Epoch: 3 [48640/60000 (81%)]\tLoss: 0.212442\n",
      "Train Epoch: 3 [49280/60000 (82%)]\tLoss: 0.236866\n",
      "Train Epoch: 3 [49920/60000 (83%)]\tLoss: 0.487415\n",
      "Train Epoch: 3 [50560/60000 (84%)]\tLoss: 0.417246\n",
      "Train Epoch: 3 [51200/60000 (85%)]\tLoss: 0.410233\n",
      "Train Epoch: 3 [51840/60000 (86%)]\tLoss: 0.224197\n",
      "Train Epoch: 3 [52480/60000 (87%)]\tLoss: 0.507426\n",
      "Train Epoch: 3 [53120/60000 (88%)]\tLoss: 0.219418\n",
      "Train Epoch: 3 [53760/60000 (90%)]\tLoss: 0.179777\n",
      "Train Epoch: 3 [54400/60000 (91%)]\tLoss: 0.375016\n",
      "Train Epoch: 3 [55040/60000 (92%)]\tLoss: 0.314415\n",
      "Train Epoch: 3 [55680/60000 (93%)]\tLoss: 0.175622\n",
      "Train Epoch: 3 [56320/60000 (94%)]\tLoss: 0.285970\n",
      "Train Epoch: 3 [56960/60000 (95%)]\tLoss: 0.336557\n",
      "Train Epoch: 3 [57600/60000 (96%)]\tLoss: 0.499000\n",
      "Train Epoch: 3 [58240/60000 (97%)]\tLoss: 0.381611\n",
      "Train Epoch: 3 [58880/60000 (98%)]\tLoss: 0.112443\n",
      "Train Epoch: 3 [59520/60000 (99%)]\tLoss: 0.290098\n",
      "\n",
      "Test set: Avg. loss: 0.0983, Accuracy: 9688/10000 (97%)\n",
      "\n"
     ]
    }
   ],
   "source": [
    "test()\n",
    "for epoch in range(1, n_epochs + 1):\n",
    "  train(epoch)\n",
    "  test()\n",
    "\n",
    "    "
   ]
  },
  {
   "cell_type": "code",
   "execution_count": 17,
   "id": "03915ec6-482a-4417-b2eb-82e2349fd7c3",
   "metadata": {},
   "outputs": [
    {
     "data": {
      "text/plain": [
       "Text(0, 0.5, 'negative log likelihood loss')"
      ]
     },
     "execution_count": 17,
     "metadata": {},
     "output_type": "execute_result"
    },
    {
     "data": {
      "image/png": "[encoded data removed]",
      "text/plain": [
       "<Figure size 432x288 with 1 Axes>"
      ]
     },
     "metadata": {},
     "output_type": "display_data"
    }
   ],
   "source": [
    "fig = plt.figure()\n",
    "plt.plot(train_counter, train_losses, color='blue')\n",
    "plt.scatter(test_counter, test_losses, color='red')\n",
    "plt.legend(['Train Loss', 'Test Loss'], loc='upper right')\n",
    "plt.xlabel('number of training examples seen')\n",
    "plt.ylabel('negative log likelihood loss')\n",
    "\n"
   ]
  },
  {
   "cell_type": "code",
   "execution_count": 18,
   "id": "d22ea20b-3691-4c22-bbfd-6ec23774b2b9",
   "metadata": {},
   "outputs": [
    {
     "name": "stderr",
     "output_type": "stream",
     "text": [
      "C:\\Users\\james\\AppData\\Local\\Temp\\ipykernel_19112\\1954227324.py:17: UserWarning: Implicit dimension choice for log_softmax has been deprecated. Change the call to include dim=X as an argument.\n",
      "  return F.log_softmax(x)\n"
     ]
    }
   ],
   "source": [
    "with torch.no_grad():\n",
    "  output = network(example_data)"
   ]
  },
  {
   "cell_type": "code",
   "execution_count": 19,
   "id": "357571da-42f3-4fba-b69b-71b6bafc4cf0",
   "metadata": {},
   "outputs": [
    {
     "name": "stderr",
     "output_type": "stream",
     "text": [
      "C:\\Users\\james\\AppData\\Local\\Temp\\ipykernel_19112\\2424367053.py:4: UserWarning: The figure layout has changed to tight\n",
      "  plt.tight_layout()\n"
     ]
    },
    {
     "data": {
      "image/png": "[encoded data removed]",
      "text/plain": [
       "<Figure size 432x288 with 6 Axes>"
      ]
     },
     "metadata": {},
     "output_type": "display_data"
    }
   ],
   "source": [
    "fig = plt.figure()\n",
    "for i in range(6):\n",
    "  plt.subplot(2,3,i+1)\n",
    "  plt.tight_layout()\n",
    "  plt.imshow(example_data[i][0], cmap='gray', interpolation='none')\n",
    "  plt.title(\"Prediction: {}\".format(\n",
    "    output.data.max(1, keepdim=True)[1][i].item()))\n",
    "  plt.xticks([])\n",
    "  plt.yticks([])\n",
    "\n"
   ]
  }
 ],
 "metadata": {
  "kernelspec": {
   "display_name": "Python 3 (Spyder)",
   "language": "python3",
   "name": "python3"
  },
  "language_info": {
   "codemirror_mode": {
    "name": "ipython",
    "version": 3
   },
   "file_extension": ".py",
   "mimetype": "text/x-python",
   "name": "python",
   "nbconvert_exporter": "python",
   "pygments_lexer": "ipython3",
   "version": "3.11.5"
  }
 },
 "nbformat": 4,
 "nbformat_minor": 5
}
