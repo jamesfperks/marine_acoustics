{
 "cells": [
  {
   "cell_type": "markdown",
   "id": "b71c7be6-6596-4651-9ffd-4a391114d78d",
   "metadata": {},
   "source": [
    "### MFCCs Workbook"
   ]
  },
  {
   "cell_type": "code",
   "execution_count": 1,
   "id": "3b2c77db-5f82-47f2-9089-8f320f36fd6f",
   "metadata": {},
   "outputs": [],
   "source": [
    "import librosa\n",
    "import matplotlib.pyplot as plt\n",
    "import numpy as np\n",
    "import pywt\n",
    "\n",
    "# Figures appear in notebook inline\n",
    "%matplotlib inline\n"
   ]
  },
  {
   "cell_type": "markdown",
   "id": "8ccb5575-c8d6-4ea2-9fb1-69d0c46b29e9",
   "metadata": {},
   "source": [
    "### Define constants (frame_length, hop_length etc.)"
   ]
  },
  {
   "cell_type": "code",
   "execution_count": 2,
   "id": "6451cdae-867c-4119-b2e9-aa648c96b764",
   "metadata": {},
   "outputs": [
    {
     "name": "stdout",
     "output_type": "stream",
     "text": [
      "Frame duration: 1000 ms\n",
      "Overlap: 50%\n"
     ]
    }
   ],
   "source": [
    "# CONSTANTS\n",
    "\n",
    "FRAME_DURATION = 1000    #  window duration in ms\n",
    "OVERLAP = 50           # window overlap %\n",
    "n_mels = 32    # no. of mel-bands used to partition linear frequencies\n",
    "n_mfcc = 12    # no. of mfccs to calculate\n",
    "\n",
    "print(f'Frame duration: {FRAME_DURATION} ms\\nOverlap: {OVERLAP}%')\n"
   ]
  },
  {
   "cell_type": "markdown",
   "id": "8d2f0846-dc1a-4a63-a0ae-f527c7d123d3",
   "metadata": {},
   "source": [
    "### Filepath to .wav audio"
   ]
  },
  {
   "cell_type": "code",
   "execution_count": 3,
   "id": "0acde2b5-5622-4d87-95c9-f752bae40670",
   "metadata": {},
   "outputs": [],
   "source": [
    "# File path to .wav file\n",
    "audio_file_path = r\"C:\\Users\\james\\OneDrive - Nexus365\\Engineering\\Year4\\4YP\\git\\marine_acoustics\\data\\AcousticTrends_BlueFinLibrary\\ElephantIsland2014\\wav\\20140101_040000_AWI251-01_AU0231_250Hz.wav\"\n",
    "filename = audio_file_path.split('/')[-1]"
   ]
  },
  {
   "cell_type": "markdown",
   "id": "9e9b9c87-ee4f-441f-9e7a-2144602aa078",
   "metadata": {},
   "source": [
    "### Calculate MFCCs using default sampling rate"
   ]
  },
  {
   "cell_type": "code",
   "execution_count": 4,
   "id": "8fb2099c-96df-4f73-86c3-0c18d90a7c31",
   "metadata": {},
   "outputs": [
    {
     "name": "stdout",
     "output_type": "stream",
     "text": [
      "Loaded file: C:\\Users\\james\\OneDrive - Nexus365\\Engineering\\Year4\\4YP\\git\\marine_acoustics\\data\\AcousticTrends_BlueFinLibrary\\ElephantIsland2014\\wav\\20140101_040000_AWI251-01_AU0231_250Hz.wav\n",
      "--------------------------------\n",
      "Duration: 300.0 seconds\n",
      "--------------------------------\n",
      "Sample rate: 250 Hz\n",
      "--------------------------------\n",
      "\n",
      "First 12 MFCCs:\n",
      "--------------------------------------------------------------------------------\n",
      "[-1.1150922e+02  4.6454185e+01 -4.8928308e+00  1.1657514e+01\n",
      " -4.9631357e-02  6.1416779e+00  8.8968239e+00  6.7970500e+00\n",
      "  2.3158078e+00 -1.0209326e+01 -2.0922277e+00  7.1029705e-01]\n"
     ]
    }
   ],
   "source": [
    "# Read entire mono .wav file using default sampling rate\n",
    "y, sr = librosa.load(audio_file_path, sr=None, mono=True, offset=0.0, duration=None)\n",
    "\n",
    "# Printout audio file summary\n",
    "print(f'Loaded file: {filename}\\n--------------------------------\\n\\\n",
    "Duration: {y.size/sr} seconds\\n--------------------------------\\n\\\n",
    "Sample rate: {sr} Hz\\n--------------------------------\\n')\n",
    "\n",
    "# Calculate params\n",
    "frame_length = sr*FRAME_DURATION//1000\n",
    "hop_length = frame_length * (100-OVERLAP) // 100\n",
    "\n",
    "# Calculate MFCCs\n",
    "mfccs = librosa.feature.mfcc(y=y, sr=sr, n_mfcc=n_mfcc, n_fft=frame_length, hop_length=hop_length, n_mels=n_mels)\n",
    "print(f'First {n_mfcc} MFCCs:\\n' + '-'*80 + f'\\n{mfccs[:,0]}')\n"
   ]
  },
  {
   "cell_type": "markdown",
   "id": "557d4d36-6c9a-4045-8575-5344a4f6de54",
   "metadata": {},
   "source": [
    "### Calculate MFCCs using 250Hz sampling rate"
   ]
  },
  {
   "cell_type": "code",
   "execution_count": 5,
   "id": "0e074c80-6d8c-4561-8ff9-d2c667894c9d",
   "metadata": {},
   "outputs": [
    {
     "name": "stdout",
     "output_type": "stream",
     "text": [
      "Loaded file: C:\\Users\\james\\OneDrive - Nexus365\\Engineering\\Year4\\4YP\\git\\marine_acoustics\\data\\AcousticTrends_BlueFinLibrary\\ElephantIsland2014\\wav\\20140101_040000_AWI251-01_AU0231_250Hz.wav\n",
      "--------------------------------\n",
      "Duration: 300.0 seconds\n",
      "--------------------------------\n",
      "Sample rate: 100 Hz\n",
      "--------------------------------\n",
      "\n",
      "First 12 MFCCs:\n",
      "--------------------------------------------------------------------------------\n",
      "[-112.77532      13.675643     16.171144      1.4330456   -14.294762\n",
      "   -5.7884817    -8.341605     -9.348461     -1.7470791     0.35479027\n",
      "    2.808184     -0.7267134 ]\n"
     ]
    }
   ],
   "source": [
    "\n",
    "SR = 100\n",
    "\n",
    "# Read entire mono .wav file using default sampling rate\n",
    "y, sr = librosa.load(audio_file_path, sr=SR, mono=True, offset=0.0, duration=None)\n",
    "\n",
    "# Printout audio file summary\n",
    "print(f'Loaded file: {filename}\\n--------------------------------\\n\\\n",
    "Duration: {y.size/sr} seconds\\n--------------------------------\\n\\\n",
    "Sample rate: {sr} Hz\\n--------------------------------\\n')\n",
    "\n",
    "# Calculate params\n",
    "frame_length = sr*FRAME_DURATION//1000\n",
    "hop_length = frame_length * (100-OVERLAP) // 100\n",
    "\n",
    "\n",
    "# Calculate MFCCs\n",
    "mfccs = librosa.feature.mfcc(y=y, sr=sr, n_mfcc=n_mfcc, n_fft=frame_length, hop_length=hop_length, n_mels=n_mels)\n",
    "print(f'First {n_mfcc} MFCCs:\\n' + '-'*80 + f'\\n{mfccs[:,0]}')\n",
    "\n"
   ]
  }
 ],
 "metadata": {
  "kernelspec": {
   "display_name": "Python 3 (Spyder)",
   "language": "python3",
   "name": "python3"
  },
  "language_info": {
   "codemirror_mode": {
    "name": "ipython",
    "version": 3
   },
   "file_extension": ".py",
   "mimetype": "text/x-python",
   "name": "python",
   "nbconvert_exporter": "python",
   "pygments_lexer": "ipython3",
   "version": "3.11.5"
  }
 },
 "nbformat": 4,
 "nbformat_minor": 5
}
