{
 "cells": [
  {
   "cell_type": "markdown",
   "id": "3cbb9801-c450-427b-a87b-5fdb9d38d385",
   "metadata": {},
   "source": [
    "### Find annotated calls at a given site"
   ]
  },
  {
   "cell_type": "code",
   "execution_count": null,
   "id": "ad176c4d-8d7a-433e-a586-27922e1e158e",
   "metadata": {},
   "outputs": [],
   "source": [
    "import os\n",
    "from marine_acoustics.data_processing import info, read, sample\n",
    "\n",
    "# Change cwd\n",
    "os.chdir(r'C:\\Users\\james\\OneDrive - Nexus365\\Engineering\\Year4\\4YP\\git\\marine_acoustics')\n"
   ]
  },
  {
   "cell_type": "markdown",
   "id": "caad5c2b-5f77-4965-bb0f-b530549bd98d",
   "metadata": {},
   "source": [
    "### Choose site and call types"
   ]
  },
  {
   "cell_type": "code",
   "execution_count": null,
   "id": "78d54394-d65a-46c9-94d0-2ec84fa0fc78",
   "metadata": {},
   "outputs": [],
   "source": [
    "# ---------------------------\n",
    "SITE = 9\n",
    "# ---------------------------\n",
    "CALLS = [1,2,3]\n",
    "# ---------------------------\n",
    "\n",
    "site = info.get_recording_sites()[SITE-1]\n",
    "call_types = info.get_call_types()\n",
    "call_types = [call_types[i-1] for i in CALLS]\n",
    "print(site, '\\n', call_types)"
   ]
  },
  {
   "cell_type": "code",
   "execution_count": null,
   "id": "d198a59d-8752-4603-9e98-9385ce7a2ccc",
   "metadata": {},
   "outputs": [],
   "source": [
    "# Folder structure\n",
    "df_folder_structure = info.get_folder_structure()\n",
    "\n",
    "# Combine all call-type logs\n",
    "df_logs = sample.concat_call_logs(site, call_types, df_folder_structure)\n",
    "\n",
    "# Simplify fields\n",
    "fields = ['Begin File', 'Beg File Samp (samples)', 'End File Samp (samples)', 'Call Label', 'Begin Date Time', 'Delta Time (s)', 'Low Freq (Hz)',\n",
    "              'High Freq (Hz)', 'Dur 90% (s)', 'Freq 5% (Hz)', 'Freq 95% (Hz)']\n",
    "df_logs = df_logs[fields]\n",
    "\n",
    "# Get default sample rate used at site\n",
    "_, sr_default = read.read_audio(site, df_logs['Begin File'].iloc[0], df_folder_structure)\n",
    "\n",
    "# Convert samples to time (s)\n",
    "df_logs['Beg File Samp (samples)'] = round(df_logs['Beg File Samp (samples)']/sr_default,1)\n",
    "df_logs['End File Samp (samples)'] = round(df_logs['End File Samp (samples)']/sr_default,1)\n",
    "df_logs = df_logs.rename(columns={'Beg File Samp (samples)': \"Begin (s)\", 'End File Samp (samples)': \"End (s)\"})\n",
    "\n",
    "# Sort by annotation start time\n",
    "df_logs = df_logs.sort_values(\"Begin (s)\")\n",
    "\n",
    "# Groupby .wav filename\n",
    "gb_wavfile = df_logs.groupby('Begin File')\n",
    "\n",
    "for wav, logs in gb_wavfile:\n",
    "    display(logs)"
   ]
  },
  {
   "cell_type": "code",
   "execution_count": null,
   "id": "58ffa9b2-eafd-4640-b372-24aa282cc852",
   "metadata": {},
   "outputs": [],
   "source": []
  }
 ],
 "metadata": {
  "kernelspec": {
   "display_name": "Python 3 (Spyder)",
   "language": "python3",
   "name": "python3"
  },
  "language_info": {
   "codemirror_mode": {
    "name": "ipython",
    "version": 3
   },
   "file_extension": ".py",
   "mimetype": "text/x-python",
   "name": "python",
   "nbconvert_exporter": "python",
   "pygments_lexer": "ipython3",
   "version": "3.11.5"
  }
 },
 "nbformat": 4,
 "nbformat_minor": 5
}
