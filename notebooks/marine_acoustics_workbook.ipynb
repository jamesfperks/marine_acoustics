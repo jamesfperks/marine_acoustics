{
 "cells": [
  {
   "cell_type": "markdown",
   "id": "b71c7be6-6596-4651-9ffd-4a391114d78d",
   "metadata": {},
   "source": [
    "### Marine Acoustics Workbook"
   ]
  },
  {
   "cell_type": "code",
   "execution_count": 1,
   "id": "3b2c77db-5f82-47f2-9089-8f320f36fd6f",
   "metadata": {},
   "outputs": [],
   "source": [
    "import librosa\n",
    "import matplotlib.pyplot as plt\n",
    "import numpy as np\n",
    "import pywt\n",
    "\n",
    "# Figures appear in notebook inline\n",
    "#%matplotlib inline\n"
   ]
  },
  {
   "cell_type": "markdown",
   "id": "8d2f0846-dc1a-4a63-a0ae-f527c7d123d3",
   "metadata": {},
   "source": [
    "### Read .wav audio"
   ]
  },
  {
   "cell_type": "code",
   "execution_count": 2,
   "id": "8fb2099c-96df-4f73-86c3-0c18d90a7c31",
   "metadata": {},
   "outputs": [
    {
     "name": "stdout",
     "output_type": "stream",
     "text": [
      "Loaded file: humpback.wav\n",
      "--------------------------------\n",
      "Duration: 255.65 seconds\n",
      "--------------------------------\n",
      "Sample rate: 4000 Hz\n",
      "--------------------------------\n",
      "\n"
     ]
    }
   ],
   "source": [
    "# File path to .wav file\n",
    "audio_file_path = \"../data/humpback.wav\"\n",
    "filename = audio_file_path.split('/')[-1]\n",
    "\n",
    "# Read entire mono .wav file using default sampling rate\n",
    "y, sr = librosa.load(audio_file_path, sr=None, mono=True, offset=0.0, duration=None)\n",
    "print(f'Loaded file: {filename}\\n--------------------------------\\n\\\n",
    "Duration: {y.size/sr} seconds\\n--------------------------------\\n\\\n",
    "Sample rate: {sr} Hz\\n--------------------------------\\n')\n",
    "\n"
   ]
  },
  {
   "cell_type": "markdown",
   "id": "8ccb5575-c8d6-4ea2-9fb1-69d0c46b29e9",
   "metadata": {},
   "source": [
    "### Define constants (frame_length, hop_length etc.)"
   ]
  },
  {
   "cell_type": "code",
   "execution_count": 14,
   "id": "6451cdae-867c-4119-b2e9-aa648c96b764",
   "metadata": {},
   "outputs": [
    {
     "name": "stdout",
     "output_type": "stream",
     "text": [
      "Frame duration: 25.0 ms\n",
      "Overlap: 50.0%\n"
     ]
    }
   ],
   "source": [
    "# CONSTANTS\n",
    "frame_length = 100    # window size in samples\n",
    "hop_length = frame_length//2    # stride length between windows in samples\n",
    "n_mels = 64    # no. of mel-bands used to partition linear frequencies\n",
    "n_mfcc = 12    # no. of mfccs to calculate\n",
    "wavelet = 'morl'    # wavelet type: morlet\n",
    "delta_width = 5    # no. of frames over which the delta is calculated\n",
    "\n",
    "print(f'Frame duration: {1000*frame_length/sr} ms\\nOverlap: {100*hop_length/frame_length}%')\n"
   ]
  },
  {
   "cell_type": "markdown",
   "id": "f153a631-4cc6-405e-aea9-30026f801fcd",
   "metadata": {},
   "source": [
    "### Functions"
   ]
  },
  {
   "cell_type": "code",
   "execution_count": 15,
   "id": "79e19b6d-1816-4447-a485-b8d9ddd7217b",
   "metadata": {},
   "outputs": [],
   "source": [
    "def slice_data(data, frame_length, hop_length):\n",
    "    \"\"\"Slice 1D array into frames with a given overlap\"\"\"\n",
    "    frame_view = librosa.util.frame(data, frame_length=frame_length, hop_length=hop_length, axis=0)\n",
    "    \n",
    "    return frame_view\n",
    "\n",
    "\n",
    "def apply_cwt(y, sr, scales, wavelet):\n",
    "    \"\"\"Apply cwt to a 1D array\"\"\"\n",
    "    \n",
    "    # Compute continuous wavelet transform\n",
    "    wavelet_coeffs, wavelet_freqs = pywt.cwt(y, scales, wavelet, sampling_period=1/sr)\n",
    "\n",
    "    return wavelet_coeffs, wavelet_freqs\n",
    "    \n",
    "\n",
    "def scale2frequency(wavelet, scales, sr):\n",
    "    \"\"\"Convert from cwt scale to to pseudo-frequency\"\"\"\n",
    "\n",
    "    # pywt function returns normalised frequency so need to multiply by sr\n",
    "    freqs = pywt.scale2frequency(wavelet, scales) * sr\n",
    "\n",
    "    return freqs\n",
    "\n",
    "\n",
    "def frequency2scale(wavelet, desired_freqs, sr):\n",
    "    \"\"\"Convert from desired frequencies to a cwt scale\"\"\"\n",
    "\n",
    "    # pywt function input is normalised frequency so need to normalise by sr\n",
    "    normalised_freqs = desired_freqs / sr\n",
    "    \n",
    "    freqs = pywt.scale2frequency(wavelet, normalised_freqs)\n",
    "\n",
    "    return freqs\n",
    "\n",
    "\n",
    "def plot_waveform(y, sr, axis='s', offset=0.0, title='Audio Waveform', xlabel='Time (s)', ylabel='Amplitude'):\n",
    "    \"\"\"Plot the signal waveform in the time domain\"\"\"\n",
    "\n",
    "    # Plot\n",
    "    librosa.display.waveshow(y, sr=sr, max_points=sr//2, axis=axis, offset=offset)\n",
    "    plt.title(title)\n",
    "    plt.xlabel(xlabel)\n",
    "    plt.ylabel(ylabel)\n",
    "\n",
    "\n",
    "def plot_dft(y, sr, title='DFT Magnitude', xlabel='Frequency (Hz)', ylabel='Magnitude'):\n",
    "    \"\"\"Plot DFT magnitude for a real 1D array\"\"\"\n",
    "\n",
    "    # Calculate DFT\n",
    "    y_dft = np.fft.rfft(y)\n",
    "\n",
    "    # Calculate DFT frequency bins\n",
    "    dft_freqs = np.fft.rfftfreq(y.size, d=1/sr)\n",
    "\n",
    "    # Plot\n",
    "    plt.plot(dft_freqs, np.abs(y_dft))\n",
    "    plt.title(title)\n",
    "    plt.xlabel(xlabel)\n",
    "    plt.ylabel(ylabel)\n",
    "\n",
    "\n",
    "def plot_spectrogram(y, sr, n_fft=frame_length, hop_length=hop_length, title='Linear-frequency Power Spectrogram', xlabel='Time (s)', ylabel='Frequency (Hz)'):\n",
    "    \"\"\"Plot the linear-frequency power spectrogram\"\"\"\n",
    "\n",
    "    D = librosa.stft(y, n_fft=n_fft, hop_length=hop_length, window='hann')  # STFT of y\n",
    "    S_db = librosa.amplitude_to_db(np.abs(D), ref=np.max)    # STFT in dB\n",
    "    \n",
    "    # Plot\n",
    "    librosa.display.specshow(S_db, sr=sr, hop_length=hop_length, x_axis='s', y_axis='linear')\n",
    "    plt.colorbar(format=\"%+2.f dB\")\n",
    "    plt.title(title)\n",
    "    plt.xlabel(xlabel)\n",
    "    plt.ylabel(ylabel)\n",
    "\n",
    "\n",
    "def plot_mel_spectrogram(y, sr, n_fft=frame_length, hop_length=hop_length, n_mels=n_mels, title='Mel-frequency Power Spectrogram', xlabel='Time (s)', ylabel='Frequency (Hz)'):\n",
    "    \"\"\"Plot the mel-frequency power spectrogram\"\"\"\n",
    "\n",
    "    D = librosa.feature.melspectrogram(y=y, sr=sr, n_fft=frame_length, hop_length=hop_length, n_mels=n_mels)  # mel-power spectrogram of y\n",
    "    S_db = librosa.power_to_db(D, ref=np.max)    # mel-power spectrogram in dB\n",
    "    \n",
    "    # Plot\n",
    "    librosa.display.specshow(S_db, sr=sr, hop_length=hop_length, x_axis='s', y_axis='linear')\n",
    "    plt.colorbar(format=\"%+2.f dB\")\n",
    "    plt.title(title)\n",
    "    plt.xlabel(xlabel)\n",
    "    plt.ylabel(ylabel)\n",
    "\n",
    "\n",
    "def plot_cwt(y, sr, scales, wavelet):\n",
    "    \"\"\"Plot the wavelet scalogram\"\"\"\n",
    "\n",
    "    # Compute continuous wavelet transform\n",
    "    wavelet_coeffs, wavelet_freqs = apply_cwt(y, sr, scales, wavelet)\n",
    "    \n",
    "    # Compute time array\n",
    "    time = np.arange(0, y.size)/sr\n",
    "\n",
    "    # Plot the wavelet scalogram.\n",
    "    plt.pcolormesh(time, wavelet_freqs, np.abs(wavelet_coeffs), cmap='magma')\n",
    "    plt.xlabel(\"Time (s)\")\n",
    "    plt.ylabel(\"Pseudo-frequency (Hz)\")\n",
    "    plt.title(\"Wavelet Scalogram\")\n"
   ]
  },
  {
   "cell_type": "markdown",
   "id": "03a77327-0fb6-4423-b04c-a4724efa8749",
   "metadata": {},
   "source": [
    "### Slice signal into frames"
   ]
  },
  {
   "cell_type": "code",
   "execution_count": 16,
   "id": "9a304d80-0a6a-446f-8ca0-dc402b1c2926",
   "metadata": {},
   "outputs": [
    {
     "name": "stdout",
     "output_type": "stream",
     "text": [
      "Sliced signal into 20451 frames with 50.0% overlap and duration 25.0 ms.\n"
     ]
    }
   ],
   "source": [
    "# Create view of sliced signal\n",
    "y_frames = slice_data(y, frame_length, hop_length)\n",
    "print(f'Sliced signal into {y_frames.shape[0]} frames with {100*hop_length/frame_length}% overlap and duration {1000*frame_length/sr} ms.')\n"
   ]
  },
  {
   "cell_type": "markdown",
   "id": "1528822d-ee35-4c8d-86d0-0badb6a7e952",
   "metadata": {},
   "source": [
    "### Plot the audio waveform"
   ]
  },
  {
   "cell_type": "code",
   "execution_count": 17,
   "id": "bcf58868-81b6-4d2d-bde3-485c361d6902",
   "metadata": {},
   "outputs": [],
   "source": [
    "plot_waveform(y, sr)\n"
   ]
  },
  {
   "cell_type": "markdown",
   "id": "555f6628-6b1f-468c-b191-8270674a4cb3",
   "metadata": {},
   "source": [
    "### Plot the DFT for one frame"
   ]
  },
  {
   "cell_type": "code",
   "execution_count": 18,
   "id": "73bcfbfa-c51e-4ae5-9023-264c8c09d23b",
   "metadata": {},
   "outputs": [],
   "source": [
    "plot_dft(y_frames[50], sr)\n"
   ]
  },
  {
   "cell_type": "markdown",
   "id": "2edeea06-049f-44c5-a7ae-7f899a30d5a4",
   "metadata": {},
   "source": [
    "### Plot a linear-frequency power spectrogram"
   ]
  },
  {
   "cell_type": "code",
   "execution_count": 19,
   "id": "7b6dd237-0c13-4130-aede-c364da9e42a1",
   "metadata": {},
   "outputs": [],
   "source": [
    "# Select a slice of the audio\n",
    "t_start = 155\n",
    "t_end = 165\n",
    "\n",
    "plt.figure()\n",
    "plot_spectrogram(y[sr*t_start:sr*t_end], sr)\n"
   ]
  },
  {
   "cell_type": "markdown",
   "id": "4dd80131-0c64-4245-9ffe-67470c56bfbe",
   "metadata": {},
   "source": [
    "### Plot a mel-frequency power spectrogram"
   ]
  },
  {
   "cell_type": "code",
   "execution_count": 20,
   "id": "15c4bf08-70ec-41ae-89a1-504c33d68fd3",
   "metadata": {},
   "outputs": [],
   "source": [
    "plt.figure()\n",
    "plot_mel_spectrogram(y[sr*t_start:sr*t_end], sr)\n"
   ]
  },
  {
   "cell_type": "markdown",
   "id": "e2104128-499f-460d-b74f-2df73907aa4d",
   "metadata": {},
   "source": [
    "### Plot wavelet scalogram"
   ]
  },
  {
   "cell_type": "code",
   "execution_count": 21,
   "id": "5f4be13a-9f00-4e9a-a64b-babdf32eda99",
   "metadata": {},
   "outputs": [],
   "source": [
    "# Select a slice of the audio\n",
    "t_start = 155\n",
    "t_end = 165\n",
    "\n",
    "# Choose wavelet pseudo frequencies\n",
    "desired_freqs = np.arange(1, 2010, 10)\n",
    "scales = frequency2scale(wavelet, desired_freqs, sr)\n",
    "\n",
    "# Plot\n",
    "plt.figure()\n",
    "plot_cwt(y[sr*t_start:sr*t_end], sr, scales, wavelet)\n"
   ]
  },
  {
   "cell_type": "markdown",
   "id": "5924c431-f28a-4ac2-8b68-4dc85867aeb0",
   "metadata": {},
   "source": [
    "### Spectrogram of chirp"
   ]
  },
  {
   "cell_type": "code",
   "execution_count": 22,
   "id": "a2e5d264-2cc0-4597-8a99-b1dab8421d6b",
   "metadata": {},
   "outputs": [],
   "source": [
    "fs = 100\n",
    "chirp = librosa.chirp(fmin=1, fmax=30, sr=fs, length=None, duration=15)\n",
    "\n",
    "plot_spectrogram(chirp, fs, n_fft=512, hop_length=32)\n"
   ]
  },
  {
   "cell_type": "markdown",
   "id": "0fb72160-a0d1-40bd-bd52-fb522281495b",
   "metadata": {},
   "source": [
    "### Wavelet scalogram of chirp"
   ]
  },
  {
   "cell_type": "code",
   "execution_count": 23,
   "id": "78edb409-71d2-444b-aeca-fbe30115aa80",
   "metadata": {},
   "outputs": [],
   "source": [
    "fs = 100\n",
    "chirp = librosa.chirp(fmin=1, fmax=30, sr=fs, length=None, duration=15)\n",
    "desired_freqs = np.arange(0.1,35,0.2)\n",
    "scales = frequency2scale(wavelet, desired_freqs, fs)\n",
    "#scales = np.arange(800,50, -10)\n",
    "\n",
    "plot_cwt(chirp, fs, scales, wavelet)\n"
   ]
  },
  {
   "cell_type": "markdown",
   "id": "9e9b9c87-ee4f-441f-9e7a-2144602aa078",
   "metadata": {},
   "source": [
    "### Calculate MFCCs, Deltas, and Delta-Deltas"
   ]
  },
  {
   "cell_type": "code",
   "execution_count": 24,
   "id": "c75fde6c-249c-49dc-b15e-4ade283bcbb4",
   "metadata": {},
   "outputs": [
    {
     "name": "stdout",
     "output_type": "stream",
     "text": [
      "First 12 MFCCs:\n",
      "------------------------------------------------------------------\n",
      "[-409.7646       8.581801    15.900955    23.931812     1.0240664\n",
      "    8.487936    -9.2066555   -5.6914115    7.048259    -0.8699417\n",
      "    2.377391   -11.291279 ]\n"
     ]
    }
   ],
   "source": [
    "# Calculate MFCCs\n",
    "mfccs = librosa.feature.mfcc(y=y, sr=sr, n_mfcc=n_mfcc, n_fft=frame_length, hop_length=hop_length, n_mels=n_mels)\n",
    "print(f'First {n_mfcc} MFCCs:\\n------------------------------------------------------------------\\n{mfccs[:,0]}')\n",
    "\n",
    "# Calculate the delta of the mfccs\n",
    "mfcc_deltas = librosa.feature.delta(mfccs, width=delta_width, order=1, axis=-1)\n",
    "\n",
    "# Calculate the delta-deltas of the mfccs\n",
    "mfcc_delta_deltas = librosa.feature.delta(mfccs, width=delta_width, order=2, axis=-1)\n",
    "\n"
   ]
  }
 ],
 "metadata": {
  "kernelspec": {
   "display_name": "Python 3 (Spyder)",
   "language": "python3",
   "name": "python3"
  },
  "language_info": {
   "codemirror_mode": {
    "name": "ipython",
    "version": 3
   },
   "file_extension": ".py",
   "mimetype": "text/x-python",
   "name": "python",
   "nbconvert_exporter": "python",
   "pygments_lexer": "ipython3",
   "version": "3.11.5"
  }
 },
 "nbformat": 4,
 "nbformat_minor": 5
}
